{
  "nbformat": 4,
  "nbformat_minor": 0,
  "metadata": {
    "colab": {
      "provenance": [],
      "authorship_tag": "ABX9TyOIbs6pUSRh9fyAQcXvwFkW",
      "include_colab_link": true
    },
    "kernelspec": {
      "name": "python3",
      "display_name": "Python 3"
    },
    "language_info": {
      "name": "python"
    }
  },
  "cells": [
    {
      "cell_type": "markdown",
      "metadata": {
        "id": "view-in-github",
        "colab_type": "text"
      },
      "source": [
        "<a href=\"https://colab.research.google.com/github/junsoo321/hw/blob/main/1-17.ipynb\" target=\"_parent\"><img src=\"https://colab.research.google.com/assets/colab-badge.svg\" alt=\"Open In Colab\"/></a>"
      ]
    },
    {
      "cell_type": "code",
      "execution_count": 3,
      "metadata": {
        "colab": {
          "base_uri": "https://localhost:8080/"
        },
        "id": "wvni3Jb6kb60",
        "outputId": "6d5e1533-66a2-48cc-b839-067d0ca0d88b"
      },
      "outputs": [
        {
          "output_type": "stream",
          "name": "stdout",
          "text": [
            "Type: <class 'numpy.ndarray'>\n",
            "Shape (2,)\n",
            "값:\n",
            " [29 67]\n",
            " \n",
            "Type: <class 'numpy.ndarray'>\n",
            "Shape (2,)\n",
            "값:\n",
            " [29 67]\n",
            " \n"
          ]
        }
      ],
      "source": [
        "import numpy as np\n",
        "import matplotlib.pyplot as plt\n",
        "\n",
        "def print_val(x):\n",
        "  print(\"Type:\",type(x))\n",
        "  print(\"Shape\",x.shape)\n",
        "  print(\"값:\\n\",x)\n",
        "  print(\" \")\n",
        "\n",
        "m1=np.array([[1,2],[3,4]])\n",
        "v1=np.array([9,10])\n",
        "\n",
        "print_val(m1.dot(v1))\n",
        "print_val(np.dot(m1,v1))"
      ]
    }
  ]
}