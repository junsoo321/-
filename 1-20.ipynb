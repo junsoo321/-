{
  "nbformat": 4,
  "nbformat_minor": 0,
  "metadata": {
    "colab": {
      "provenance": [],
      "authorship_tag": "ABX9TyPviga9wFD4BjqiPDK1w0R+",
      "include_colab_link": true
    },
    "kernelspec": {
      "name": "python3",
      "display_name": "Python 3"
    },
    "language_info": {
      "name": "python"
    }
  },
  "cells": [
    {
      "cell_type": "markdown",
      "metadata": {
        "id": "view-in-github",
        "colab_type": "text"
      },
      "source": [
        "<a href=\"https://colab.research.google.com/github/junsoo321/hw/blob/main/1-20.ipynb\" target=\"_parent\"><img src=\"https://colab.research.google.com/assets/colab-badge.svg\" alt=\"Open In Colab\"/></a>"
      ]
    },
    {
      "cell_type": "code",
      "execution_count": 8,
      "metadata": {
        "colab": {
          "base_uri": "https://localhost:8080/"
        },
        "id": "wvni3Jb6kb60",
        "outputId": "7332f6d1-7266-45eb-d2e1-084027efe499"
      },
      "outputs": [
        {
          "output_type": "stream",
          "name": "stdout",
          "text": [
            "Type: <class 'numpy.int64'>\n",
            "Shape ()\n",
            "값:\n",
            " 10\n",
            " \n",
            "Type: <class 'numpy.ndarray'>\n",
            "Shape (2,)\n",
            "값:\n",
            " [4 6]\n",
            " \n",
            "Type: <class 'numpy.ndarray'>\n",
            "Shape (2,)\n",
            "값:\n",
            " [3 7]\n",
            " \n"
          ]
        }
      ],
      "source": [
        "import numpy as np\n",
        "def print_val(x):\n",
        "  print(\"Type:\",type(x))\n",
        "  print(\"Shape\",x.shape)\n",
        "  print(\"값:\\n\",x)\n",
        "  print(\" \")\n",
        "m1=np.array([[1,2],[3,4]])\n",
        "m2=np.array([[5,6],[7,8]])\n",
        "v1=np.array([9,10])\n",
        "v2=np.array([11,12])\n",
        "\n",
        "\n",
        "print_val(np.sum(m1))\n",
        "print_val(np.sum(m1,axis=0))\n",
        "print_val(np.sum(m1,axis=1))"
      ]
    }
  ]
}