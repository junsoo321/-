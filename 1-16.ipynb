{
  "nbformat": 4,
  "nbformat_minor": 0,
  "metadata": {
    "colab": {
      "provenance": [],
      "authorship_tag": "ABX9TyP2xGcfxiiNan/biP+dyvTJ",
      "include_colab_link": true
    },
    "kernelspec": {
      "name": "python3",
      "display_name": "Python 3"
    },
    "language_info": {
      "name": "python"
    }
  },
  "cells": [
    {
      "cell_type": "markdown",
      "metadata": {
        "id": "view-in-github",
        "colab_type": "text"
      },
      "source": [
        "<a href=\"https://colab.research.google.com/github/junsoo321/hw/blob/main/1-16.ipynb\" target=\"_parent\"><img src=\"https://colab.research.google.com/assets/colab-badge.svg\" alt=\"Open In Colab\"/></a>"
      ]
    },
    {
      "cell_type": "code",
      "execution_count": 4,
      "metadata": {
        "colab": {
          "base_uri": "https://localhost:8080/"
        },
        "id": "wvni3Jb6kb60",
        "outputId": "df3798ea-eaaf-41bf-83cd-e6f9c5b9cd59"
      },
      "outputs": [
        {
          "output_type": "stream",
          "name": "stdout",
          "text": [
            "Type: <class 'numpy.int64'>\n",
            "Shape ()\n",
            "값:\n",
            " 219\n",
            " \n",
            "Type: <class 'numpy.int64'>\n",
            "Shape ()\n",
            "값:\n",
            " 219\n",
            " \n"
          ]
        }
      ],
      "source": [
        "import numpy as np\n",
        "def print_val(x):\n",
        "  print(\"Type:\",type(x))\n",
        "  print(\"Shape\",x.shape)\n",
        "  print(\"값:\\n\",x)\n",
        "  print(\" \")\n",
        "v1=np.array([9,10])\n",
        "v2=np.array([11,12])\n",
        "\n",
        "\n",
        "print_val(v1.dot(v2))\n",
        "print_val(np.dot(v1,v2))"
      ]
    }
  ]
}