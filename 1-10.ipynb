{
  "nbformat": 4,
  "nbformat_minor": 0,
  "metadata": {
    "colab": {
      "provenance": [],
      "authorship_tag": "ABX9TyM9pA2aIPlmul6EQHfoq38F",
      "include_colab_link": true
    },
    "kernelspec": {
      "name": "python3",
      "display_name": "Python 3"
    },
    "language_info": {
      "name": "python"
    }
  },
  "cells": [
    {
      "cell_type": "markdown",
      "metadata": {
        "id": "view-in-github",
        "colab_type": "text"
      },
      "source": [
        "<a href=\"https://colab.research.google.com/github/junsoo321/hw/blob/main/1-10.ipynb\" target=\"_parent\"><img src=\"https://colab.research.google.com/assets/colab-badge.svg\" alt=\"Open In Colab\"/></a>"
      ]
    },
    {
      "cell_type": "code",
      "execution_count": 13,
      "metadata": {
        "colab": {
          "base_uri": "https://localhost:8080/"
        },
        "id": "wRLyTiYVXyQm",
        "outputId": "f1aa0370-bf68-40ae-95d8-283b44124341"
      },
      "outputs": [
        {
          "output_type": "stream",
          "name": "stdout",
          "text": [
            "Type: <class 'numpy.ndarray'>\n",
            "Shape: (4, 4)\n",
            "값:\n",
            " [[0.34487986 0.81805125 0.58419348 0.84042671]\n",
            " [0.33197776 0.96457217 0.75332326 0.88434014]\n",
            " [0.9368771  0.34167505 0.35517023 0.76485663]\n",
            " [0.95085911 0.24437206 0.99811419 0.28696267]]\n",
            " \n",
            "Type: <class 'numpy.ndarray'>\n",
            "Shape: (4, 4)\n",
            "값:\n",
            " [[ 1.23219155  0.48731092 -1.4638028   0.78781957]\n",
            " [-1.52909009 -0.16875762  0.17872822 -1.66434052]\n",
            " [ 0.3503751  -2.09064084 -0.41238263 -0.61532895]\n",
            " [ 1.02692847  0.55230206 -0.24894531 -0.50870473]]\n",
            " \n"
          ]
        }
      ],
      "source": [
        "a=np.random.random((4,4))\n",
        "print_val(a)\n",
        "\n",
        "a=np.random.randn(4,4)\n",
        "print_val(a)"
      ]
    }
  ]
}