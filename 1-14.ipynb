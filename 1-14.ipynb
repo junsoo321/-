{
  "nbformat": 4,
  "nbformat_minor": 0,
  "metadata": {
    "colab": {
      "provenance": [],
      "authorship_tag": "ABX9TyOjM8PLvE9C2gFDkgkZInCN",
      "include_colab_link": true
    },
    "kernelspec": {
      "name": "python3",
      "display_name": "Python 3"
    },
    "language_info": {
      "name": "python"
    }
  },
  "cells": [
    {
      "cell_type": "markdown",
      "metadata": {
        "id": "view-in-github",
        "colab_type": "text"
      },
      "source": [
        "<a href=\"https://colab.research.google.com/github/junsoo321/hw/blob/main/1-14.ipynb\" target=\"_parent\"><img src=\"https://colab.research.google.com/assets/colab-badge.svg\" alt=\"Open In Colab\"/></a>"
      ]
    },
    {
      "cell_type": "code",
      "execution_count": 17,
      "metadata": {
        "colab": {
          "base_uri": "https://localhost:8080/"
        },
        "id": "wRLyTiYVXyQm",
        "outputId": "0c2d8f63-0412-4411-97f3-45711ae5db94"
      },
      "outputs": [
        {
          "output_type": "stream",
          "name": "stdout",
          "text": [
            "Type: <class 'numpy.ndarray'>\n",
            "Shape: (2, 2)\n",
            "값:\n",
            " [[0.2        0.33333333]\n",
            " [0.42857143 0.5       ]]\n",
            " \n",
            "Type: <class 'numpy.ndarray'>\n",
            "Shape: (2, 2)\n",
            "값:\n",
            " [[0.2        0.33333333]\n",
            " [0.42857143 0.5       ]]\n",
            " \n",
            "Type: <class 'numpy.ndarray'>\n",
            "Shape: (2, 2)\n",
            "값:\n",
            " [[1.         1.41421356]\n",
            " [1.73205081 2.        ]]\n",
            " \n"
          ]
        }
      ],
      "source": [
        "print_val(m1/m2)\n",
        "print_val(np.divide(m1,m2))\n",
        "\n",
        "print_val(np.sqrt(m1))"
      ]
    }
  ]
}