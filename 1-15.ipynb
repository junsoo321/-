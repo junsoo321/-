{
  "nbformat": 4,
  "nbformat_minor": 0,
  "metadata": {
    "colab": {
      "provenance": [],
      "authorship_tag": "ABX9TyNNk4u96Ai5VYtvZDzScwnh",
      "include_colab_link": true
    },
    "kernelspec": {
      "name": "python3",
      "display_name": "Python 3"
    },
    "language_info": {
      "name": "python"
    }
  },
  "cells": [
    {
      "cell_type": "markdown",
      "metadata": {
        "id": "view-in-github",
        "colab_type": "text"
      },
      "source": [
        "<a href=\"https://colab.research.google.com/github/junsoo321/hw/blob/main/1-15.ipynb\" target=\"_parent\"><img src=\"https://colab.research.google.com/assets/colab-badge.svg\" alt=\"Open In Colab\"/></a>"
      ]
    },
    {
      "cell_type": "code",
      "execution_count": 18,
      "metadata": {
        "colab": {
          "base_uri": "https://localhost:8080/"
        },
        "id": "wRLyTiYVXyQm",
        "outputId": "9622d372-70ac-4bb8-f9eb-42ba72a6d8d5"
      },
      "outputs": [
        {
          "output_type": "stream",
          "name": "stdout",
          "text": [
            "Type: <class 'numpy.ndarray'>\n",
            "Shape: (2, 2)\n",
            "값:\n",
            " [[1 2]\n",
            " [3 4]]\n",
            " \n",
            "Type: <class 'numpy.ndarray'>\n",
            "Shape: (2, 2)\n",
            "값:\n",
            " [[5 6]\n",
            " [7 8]]\n",
            " \n",
            "Type: <class 'numpy.ndarray'>\n",
            "Shape: (1,)\n",
            "값:\n",
            " [9.1]\n",
            " \n",
            "Type: <class 'numpy.ndarray'>\n",
            "Shape: (2,)\n",
            "값:\n",
            " [11 12]\n",
            " \n"
          ]
        }
      ],
      "source": [
        "m1=np.array([[1,2],[3,4]])\n",
        "m2=np.array([[5,6],[7,8]])\n",
        "v1 = np.array([9.10])\n",
        "v2=np.array([11,12])\n",
        "\n",
        "print_val(m1)\n",
        "print_val(m2)\n",
        "print_val(v1)\n",
        "print_val(v2)"
      ]
    }
  ]
}