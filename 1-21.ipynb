{
  "nbformat": 4,
  "nbformat_minor": 0,
  "metadata": {
    "colab": {
      "provenance": [],
      "authorship_tag": "ABX9TyP6lz5K0OTKI6tHt9pAB7q9",
      "include_colab_link": true
    },
    "kernelspec": {
      "name": "python3",
      "display_name": "Python 3"
    },
    "language_info": {
      "name": "python"
    }
  },
  "cells": [
    {
      "cell_type": "markdown",
      "metadata": {
        "id": "view-in-github",
        "colab_type": "text"
      },
      "source": [
        "<a href=\"https://colab.research.google.com/github/junsoo321/hw/blob/main/1-21.ipynb\" target=\"_parent\"><img src=\"https://colab.research.google.com/assets/colab-badge.svg\" alt=\"Open In Colab\"/></a>"
      ]
    },
    {
      "cell_type": "code",
      "execution_count": 11,
      "metadata": {
        "colab": {
          "base_uri": "https://localhost:8080/"
        },
        "id": "wvni3Jb6kb60",
        "outputId": "ca569407-6547-436d-bfb3-b80b7c852474"
      },
      "outputs": [
        {
          "output_type": "stream",
          "name": "stdout",
          "text": [
            "[[1 2 3]\n",
            " [4 5 6]]\n",
            "(2, 3)\n",
            "\n",
            "\n",
            "Type: <class 'numpy.int64'>\n",
            "Shape ()\n",
            "값:\n",
            " 21\n",
            " \n",
            "Type: <class 'numpy.ndarray'>\n",
            "Shape (3,)\n",
            "값:\n",
            " [5 7 9]\n",
            " \n",
            "Type: <class 'numpy.ndarray'>\n",
            "Shape (2,)\n",
            "값:\n",
            " [ 6 15]\n",
            " \n"
          ]
        }
      ],
      "source": [
        "import numpy as np\n",
        "def print_val(x):\n",
        "  print(\"Type:\",type(x))\n",
        "  print(\"Shape\",x.shape)\n",
        "  print(\"값:\\n\",x)\n",
        "  print(\" \")\n",
        "m2=np.array([[5,6],[7,8]])\n",
        "v1=np.array([9,10])\n",
        "v2=np.array([11,12])\n",
        "\n",
        "\n",
        "m1=np.array([[1,2,3],[4,5,6]])\n",
        "print (m1)\n",
        "print (m1.shape)\n",
        "print(\"\\n\")\n",
        "print_val(np.sum(m1))\n",
        "print_val(np.sum(m1,axis=0))\n",
        "print_val(np.sum(m1,axis=1))"
      ]
    }
  ]
}