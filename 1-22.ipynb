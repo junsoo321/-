{
  "nbformat": 4,
  "nbformat_minor": 0,
  "metadata": {
    "colab": {
      "provenance": [],
      "authorship_tag": "ABX9TyO8tWZg7mr+Xf8aUb2s3CA2",
      "include_colab_link": true
    },
    "kernelspec": {
      "name": "python3",
      "display_name": "Python 3"
    },
    "language_info": {
      "name": "python"
    }
  },
  "cells": [
    {
      "cell_type": "markdown",
      "metadata": {
        "id": "view-in-github",
        "colab_type": "text"
      },
      "source": [
        "<a href=\"https://colab.research.google.com/github/junsoo321/hw/blob/main/1-22.ipynb\" target=\"_parent\"><img src=\"https://colab.research.google.com/assets/colab-badge.svg\" alt=\"Open In Colab\"/></a>"
      ]
    },
    {
      "cell_type": "code",
      "execution_count": 12,
      "metadata": {
        "colab": {
          "base_uri": "https://localhost:8080/"
        },
        "id": "wvni3Jb6kb60",
        "outputId": "3e9486ac-c2a6-4bb2-f5b7-fa6475ea80b3"
      },
      "outputs": [
        {
          "output_type": "stream",
          "name": "stdout",
          "text": [
            "Type: <class 'numpy.ndarray'>\n",
            "Shape (4, 3)\n",
            "값:\n",
            " [[ 1  2  3]\n",
            " [ 4  5  6]\n",
            " [ 7  8  9]\n",
            " [10 11 12]]\n",
            " \n",
            "Type: <class 'numpy.ndarray'>\n",
            "Shape (4, 3)\n",
            "값:\n",
            " [[0 0 0]\n",
            " [0 0 0]\n",
            " [0 0 0]\n",
            " [0 0 0]]\n",
            " \n"
          ]
        }
      ],
      "source": [
        "import numpy as np\n",
        "def print_val(x):\n",
        "  print(\"Type:\",type(x))\n",
        "  print(\"Shape\",x.shape)\n",
        "  print(\"값:\\n\",x)\n",
        "  print(\" \")\n",
        "v1=np.array([9,10])\n",
        "v2=np.array([11,12])\n",
        "\n",
        "\n",
        "m1=np.array([[1,2,3],\n",
        "            [4,5,6],\n",
        "            [7,8,9],\n",
        "             [10,11,12]])\n",
        "m2=np.zeros_like(m1)\n",
        "print_val(m1)\n",
        "print_val(m2)"
      ]
    }
  ]
}