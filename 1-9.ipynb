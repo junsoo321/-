{
  "nbformat": 4,
  "nbformat_minor": 0,
  "metadata": {
    "colab": {
      "provenance": [],
      "authorship_tag": "ABX9TyMW5IBlr7jwMoYqO1Si26T3",
      "include_colab_link": true
    },
    "kernelspec": {
      "name": "python3",
      "display_name": "Python 3"
    },
    "language_info": {
      "name": "python"
    }
  },
  "cells": [
    {
      "cell_type": "markdown",
      "metadata": {
        "id": "view-in-github",
        "colab_type": "text"
      },
      "source": [
        "<a href=\"https://colab.research.google.com/github/junsoo321/hw/blob/main/1-9.ipynb\" target=\"_parent\"><img src=\"https://colab.research.google.com/assets/colab-badge.svg\" alt=\"Open In Colab\"/></a>"
      ]
    },
    {
      "cell_type": "code",
      "execution_count": 12,
      "metadata": {
        "colab": {
          "base_uri": "https://localhost:8080/"
        },
        "id": "wRLyTiYVXyQm",
        "outputId": "fd489466-fa82-4f4d-bd73-419c49ef1788"
      },
      "outputs": [
        {
          "output_type": "stream",
          "name": "stdout",
          "text": [
            "Type: <class 'numpy.ndarray'>\n",
            "Shape: (3,)\n",
            "값:\n",
            " [1 2 3]\n",
            " \n",
            "Type: <class 'numpy.ndarray'>\n",
            "Shape: (3,)\n",
            "값:\n",
            " [5 2 3]\n",
            " \n"
          ]
        }
      ],
      "source": [
        "x = np.array([1,2,3])\n",
        "print_val(x)\n",
        "\n",
        "x[0] = 5\n",
        "print_val(x)"
      ]
    }
  ]
}