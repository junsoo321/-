{
  "nbformat": 4,
  "nbformat_minor": 0,
  "metadata": {
    "colab": {
      "provenance": [],
      "authorship_tag": "ABX9TyNXQ/CvkH/zwP3X+aBJXRvu",
      "include_colab_link": true
    },
    "kernelspec": {
      "name": "python3",
      "display_name": "Python 3"
    },
    "language_info": {
      "name": "python"
    }
  },
  "cells": [
    {
      "cell_type": "markdown",
      "metadata": {
        "id": "view-in-github",
        "colab_type": "text"
      },
      "source": [
        "<a href=\"https://colab.research.google.com/github/junsoo321/hw/blob/main/1-3.ipynb\" target=\"_parent\"><img src=\"https://colab.research.google.com/assets/colab-badge.svg\" alt=\"Open In Colab\"/></a>"
      ]
    },
    {
      "cell_type": "code",
      "execution_count": 4,
      "metadata": {
        "colab": {
          "base_uri": "https://localhost:8080/"
        },
        "id": "wRLyTiYVXyQm",
        "outputId": "c30b8e5e-a928-4100-b5a8-e590c3dfd460"
      },
      "outputs": [
        {
          "output_type": "stream",
          "name": "stdout",
          "text": [
            "[0/10]: Regression\n",
            "\n",
            "[1/10]: Classification\n",
            "\n",
            "[2/10]: SYM\n",
            "\n",
            "[3/10]: Clustering\n",
            "\n",
            "[4/10]: Dimension reduction\n",
            "\n",
            "[5/10]: NN\n",
            "\n",
            "[6/10]: CNN\n",
            "\n",
            "[7/10]: AE\n",
            "\n",
            "[8/10]: GAN\n",
            "\n",
            "[9/10]: RNN\n",
            "\n"
          ]
        }
      ],
      "source": [
        "for (i,con) in enumerate(contents):\n",
        "  print (\"[%d/%d]: %s\\n\"%(i,len(contents),con))"
      ]
    }
  ]
}