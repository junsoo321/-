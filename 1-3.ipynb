{
  "nbformat": 4,
  "nbformat_minor": 0,
  "metadata": {
    "colab": {
      "provenance": [],
      "authorship_tag": "ABX9TyO+0PTidqB38t8avJVKZEU1",
      "include_colab_link": true
    },
    "kernelspec": {
      "name": "python3",
      "display_name": "Python 3"
    },
    "language_info": {
      "name": "python"
    }
  },
  "cells": [
    {
      "cell_type": "markdown",
      "metadata": {
        "id": "view-in-github",
        "colab_type": "text"
      },
      "source": [
        "<a href=\"https://colab.research.google.com/github/junsoo321/hw/blob/main/1-3.ipynb\" target=\"_parent\"><img src=\"https://colab.research.google.com/assets/colab-badge.svg\" alt=\"Open In Colab\"/></a>"
      ]
    },
    {
      "cell_type": "code",
      "execution_count": 5,
      "metadata": {
        "colab": {
          "base_uri": "https://localhost:8080/"
        },
        "id": "wRLyTiYVXyQm",
        "outputId": "d89622fd-3a78-4954-b078-a36bab49832a"
      },
      "outputs": [
        {
          "output_type": "stream",
          "name": "stdout",
          "text": [
            "10.0 + 20.0 = 30.0\n"
          ]
        }
      ],
      "source": [
        "def sum(a,b):\n",
        "  return a+b\n",
        "\n",
        "x=10.0\n",
        "y=20.0\n",
        "print(\"%.1f + %.1f = %.1f\"%(x,y,sum(x,y)))"
      ]
    }
  ]
}