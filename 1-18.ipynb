{
  "nbformat": 4,
  "nbformat_minor": 0,
  "metadata": {
    "colab": {
      "provenance": [],
      "authorship_tag": "ABX9TyN/+02NjxljYYYGho9zIptm",
      "include_colab_link": true
    },
    "kernelspec": {
      "name": "python3",
      "display_name": "Python 3"
    },
    "language_info": {
      "name": "python"
    }
  },
  "cells": [
    {
      "cell_type": "markdown",
      "metadata": {
        "id": "view-in-github",
        "colab_type": "text"
      },
      "source": [
        "<a href=\"https://colab.research.google.com/github/junsoo321/hw/blob/main/1-18.ipynb\" target=\"_parent\"><img src=\"https://colab.research.google.com/assets/colab-badge.svg\" alt=\"Open In Colab\"/></a>"
      ]
    },
    {
      "cell_type": "code",
      "execution_count": 6,
      "metadata": {
        "colab": {
          "base_uri": "https://localhost:8080/"
        },
        "id": "wvni3Jb6kb60",
        "outputId": "acb05d25-00b2-48e8-ad58-72a436f50bba"
      },
      "outputs": [
        {
          "output_type": "stream",
          "name": "stdout",
          "text": [
            "Type: <class 'numpy.ndarray'>\n",
            "Shape (2, 2)\n",
            "값:\n",
            " [[19 22]\n",
            " [43 50]]\n",
            " \n",
            "Type: <class 'numpy.ndarray'>\n",
            "Shape (2, 2)\n",
            "값:\n",
            " [[19 22]\n",
            " [43 50]]\n",
            " \n"
          ]
        }
      ],
      "source": [
        "import numpy as np\n",
        "def print_val(x):\n",
        "  print(\"Type:\",type(x))\n",
        "  print(\"Shape\",x.shape)\n",
        "  print(\"값:\\n\",x)\n",
        "  print(\" \")\n",
        "m1=np.array([[1,2],[3,4]])\n",
        "m2=np.array([[5,6],[7,8]])\n",
        "v1=np.array([9,10])\n",
        "v2=np.array([11,12])\n",
        "\n",
        "\n",
        "print_val(m1.dot(m2))\n",
        "print_val(np.dot(m1,m2))"
      ]
    }
  ]
}