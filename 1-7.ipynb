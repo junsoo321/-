{
  "nbformat": 4,
  "nbformat_minor": 0,
  "metadata": {
    "colab": {
      "provenance": [],
      "authorship_tag": "ABX9TyMbAxw6v7Rl2sR0pRagL71w",
      "include_colab_link": true
    },
    "kernelspec": {
      "name": "python3",
      "display_name": "Python 3"
    },
    "language_info": {
      "name": "python"
    }
  },
  "cells": [
    {
      "cell_type": "markdown",
      "metadata": {
        "id": "view-in-github",
        "colab_type": "text"
      },
      "source": [
        "<a href=\"https://colab.research.google.com/github/junsoo321/hw/blob/main/1-7.ipynb\" target=\"_parent\"><img src=\"https://colab.research.google.com/assets/colab-badge.svg\" alt=\"Open In Colab\"/></a>"
      ]
    },
    {
      "cell_type": "code",
      "execution_count": 9,
      "metadata": {
        "colab": {
          "base_uri": "https://localhost:8080/"
        },
        "id": "wRLyTiYVXyQm",
        "outputId": "5d6c7973-0bef-4ca7-e975-7eb906661856"
      },
      "outputs": [
        {
          "output_type": "stream",
          "name": "stdout",
          "text": [
            "Daesik 학생은 공부합니다.\n",
            "Daesik 학생은 열심히 공부합니다.\n"
          ]
        }
      ],
      "source": [
        "class Student:\n",
        "\n",
        "  def __init__(self,name):\n",
        "    self.name=name\n",
        "\n",
        "  def study(self, hard=False):\n",
        "    if hard:\n",
        "      print(\"%s 학생은 열심히 공부합니다.\" %self.name)\n",
        "    else:\n",
        "      print(\"%s 학생은 공부합니다.\"%self.name)\n",
        "\n",
        "s=Student('Daesik')\n",
        "s.study()\n",
        "s.study(hard=True)"
      ]
    }
  ]
}