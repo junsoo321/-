{
  "nbformat": 4,
  "nbformat_minor": 0,
  "metadata": {
    "colab": {
      "provenance": [],
      "authorship_tag": "ABX9TyMfZxVC2Hgp4DRDlsLs1zNm",
      "include_colab_link": true
    },
    "kernelspec": {
      "name": "python3",
      "display_name": "Python 3"
    },
    "language_info": {
      "name": "python"
    }
  },
  "cells": [
    {
      "cell_type": "markdown",
      "metadata": {
        "id": "view-in-github",
        "colab_type": "text"
      },
      "source": [
        "<a href=\"https://colab.research.google.com/github/junsoo321/hw/blob/main/1-11.ipynb\" target=\"_parent\"><img src=\"https://colab.research.google.com/assets/colab-badge.svg\" alt=\"Open In Colab\"/></a>"
      ]
    },
    {
      "cell_type": "code",
      "execution_count": 14,
      "metadata": {
        "colab": {
          "base_uri": "https://localhost:8080/"
        },
        "id": "wRLyTiYVXyQm",
        "outputId": "b14b0982-6ecf-422d-d9a0-3e4fc02e96d7"
      },
      "outputs": [
        {
          "output_type": "stream",
          "name": "stdout",
          "text": [
            "Type: <class 'numpy.ndarray'>\n",
            "Shape: (3, 4)\n",
            "값:\n",
            " [[ 1  2  3  4]\n",
            " [ 5  6  7  8]\n",
            " [ 9 10 11 12]]\n",
            " \n",
            "Type: <class 'numpy.ndarray'>\n",
            "Shape: (2, 2)\n",
            "값:\n",
            " [[2 3]\n",
            " [6 7]]\n",
            " \n",
            "Type: <class 'numpy.ndarray'>\n",
            "Shape: (4,)\n",
            "값:\n",
            " [5 6 7 8]\n",
            " \n"
          ]
        }
      ],
      "source": [
        "a= np.array([[1,2,3,4],[5,6,7,8],[9,10,11,12]])\n",
        "print_val(a)\n",
        "\n",
        "b=a[:2,1:3]\n",
        "print_val(b)\n",
        "\n",
        "row1=a[1,:]\n",
        "print_val(row1)"
      ]
    }
  ]
}